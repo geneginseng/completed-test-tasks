{
 "cells": [
  {
   "cell_type": "code",
   "execution_count": 45,
   "id": "d438d583-7fa0-4734-8f78-094f4651db3d",
   "metadata": {},
   "outputs": [],
   "source": [
    "import requests\n",
    "import json\n",
    "import csv\n",
    "import pandas as pd\n",
    "import numpy as np"
   ]
  },
  {
   "cell_type": "code",
   "execution_count": 41,
   "id": "c3adfb83-ac85-45ad-822b-fafbf1cd379d",
   "metadata": {},
   "outputs": [],
   "source": [
    "url_ = \"https://fakestoreapi.com/products\""
   ]
  },
  {
   "cell_type": "code",
   "execution_count": 42,
   "id": "ab3f0aa7-e147-40c3-a704-a1eee9449407",
   "metadata": {},
   "outputs": [],
   "source": [
    "def get_leaves(item, key=None, key_prefix=\"\"):\n",
    "    \"\"\"\n",
    "    The function converts nested dictionary structure to flat \n",
    "    to avoid dictionary-like values in the result\n",
    "    \"\"\"\n",
    "    if isinstance(item, dict): # Check if the item in a server reponse is a dictionary\n",
    "        leaves = {} # Initialize a dictionary that will keep headers names as keys\n",
    "                    # and specific product's data as values\n",
    "        for item_key in item.keys():\n",
    "        # recursivelly call a get_leaves() function until we check every item\n",
    "        # in order to find another header\n",
    "            temp_key_prefix = (\n",
    "              item_key if (key_prefix == \"\") else (key_prefix + \" \" + str(item_key)))\n",
    "            leaves.update(get_leaves(item[item_key], item_key, temp_key_prefix))\n",
    "        return leaves\n",
    "    else:\n",
    "        return {key_prefix: item} # If the item provided isn't a dictionary, \n",
    "                                    # then just return a dictionary with an item"
   ]
  },
  {
   "cell_type": "code",
   "execution_count": 43,
   "id": "d2eb8e9b-e202-485e-93e6-34749ef97e57",
   "metadata": {},
   "outputs": [],
   "source": [
    "# The following function returns only last products from the web site. To retrieve products\n",
    "# using some condition we need to use other input data (e.g. by specifying a category\n",
    "# in the URL) and change the function itself.\n",
    "def get_products(url, number=None):\n",
    "    if number is not None:\n",
    "        url_n = url+f\"?limit={number}\"\n",
    "    if number is None:\n",
    "        number = \"all_products\"\n",
    "    # request data from the server\n",
    "    r = requests.get(url_n)\n",
    "    text = r.text\n",
    "    # create json object\n",
    "    response = json.loads(text)\n",
    "    # create output csv file\n",
    "    with open(f\"output_{number}.csv\", \"w\", newline=\"\", encoding='utf-8') as f_output:\n",
    "        # use list data structure to preserve the initial order of the headers \n",
    "        fieldnames = list()\n",
    "        for entry in response:\n",
    "            # call get_leaves() function on every entry from the server responce to retrieve \n",
    "            # all headers for the csv file. note that the list'll contain dublicates,\n",
    "            # because we iterate throught headers multiple times\n",
    "            entry_fields = list(get_leaves(entry).keys())\n",
    "            fieldnames.append(entry_fields)\n",
    "        # delete duplicates from the headers list\n",
    "        fieldnames = pd.Series(fieldnames).drop_duplicates().tolist()[0]\n",
    "        # initialize a writer object for recording headers and rows into the csv file\n",
    "        csv_output = csv.DictWriter(f_output, fieldnames=fieldnames)\n",
    "        csv_output.writeheader()\n",
    "        csv_output.writerows(get_leaves(entry) for entry in response)"
   ]
  },
  {
   "cell_type": "code",
   "execution_count": 44,
   "id": "f31996b6-dea7-4b95-9ee5-d45fc6202ec1",
   "metadata": {},
   "outputs": [],
   "source": [
    "get_products(url_,10)"
   ]
  },
  {
   "cell_type": "code",
   "execution_count": 64,
   "id": "e0629a6b-dfbe-4f8e-b8e1-8e0e1a921169",
   "metadata": {},
   "outputs": [],
   "source": [
    "with open(\"output_10.csv\", \"r\", encoding='utf-8') as file:\n",
    "    data = pd.read_csv(file)\n",
    "    #data.sort_values(by='price', ascending=True, inplace=True)\n",
    "    cheap_perc = np.percentile(data['price'], 30)\n",
    "    middle_perc = np.percentile(data['price'], [40,70])\n",
    "    expensive_perc = np.percentile(data['price'], 70)\n",
    "    cheap_df = data[data['price']<=cheap_perc]\n",
    "    middle_df = data[(middle_perc[0]<=data['price']) & (data['price']<=middle_perc[1])]\n",
    "    expensive_df = data[data['price']>=expensive_perc]\n",
    "    cheap_df.to_excel(\"cheap.xlsx\")\n",
    "    middle_df.to_excel(\"middle.xlsx\")\n",
    "    expensive_df.to_excel(\"expensive.xlsx\")"
   ]
  }
 ],
 "metadata": {
  "kernelspec": {
   "display_name": "Python 3 (ipykernel)",
   "language": "python",
   "name": "python3"
  },
  "language_info": {
   "codemirror_mode": {
    "name": "ipython",
    "version": 3
   },
   "file_extension": ".py",
   "mimetype": "text/x-python",
   "name": "python",
   "nbconvert_exporter": "python",
   "pygments_lexer": "ipython3",
   "version": "3.9.12"
  }
 },
 "nbformat": 4,
 "nbformat_minor": 5
}
